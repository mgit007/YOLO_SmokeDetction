{
 "cells": [
  {
   "cell_type": "code",
   "execution_count": 1,
   "metadata": {},
   "outputs": [],
   "source": [
    "import cv2\n",
    "from yolo_predictions import YOLO_Pred"
   ]
  },
  {
   "cell_type": "code",
   "execution_count": 4,
   "metadata": {},
   "outputs": [],
   "source": [
    "yolo = YOLO_Pred('C:/Users/Vibhansh/Desktop/New folder (3)/Final_Model_Prediction/Model6/weights/best.onnx', 'C:/Users/Vibhansh/Desktop/New folder (3)/Final_Model_Prediction/data.yaml')"
   ]
  },
  {
   "cell_type": "code",
   "execution_count": 3,
   "metadata": {},
   "outputs": [
    {
     "name": "stdout",
     "output_type": "stream",
     "text": [
      "[[[131 171 190]\n",
      "  [138 178 197]\n",
      "  [135 172 192]\n",
      "  ...\n",
      "  [247 254 251]\n",
      "  [247 253 252]\n",
      "  [247 253 252]]\n",
      "\n",
      " [[132 172 191]\n",
      "  [133 173 192]\n",
      "  [129 166 186]\n",
      "  ...\n",
      "  [247 254 251]\n",
      "  [247 253 252]\n",
      "  [247 253 252]]\n",
      "\n",
      " [[122 162 181]\n",
      "  [130 170 189]\n",
      "  [133 170 190]\n",
      "  ...\n",
      "  [247 254 251]\n",
      "  [247 253 252]\n",
      "  [247 253 252]]\n",
      "\n",
      " ...\n",
      "\n",
      " [[148 119  98]\n",
      "  [147 118  97]\n",
      "  [149 118  97]\n",
      "  ...\n",
      "  [ 23  23  23]\n",
      "  [ 22  22  22]\n",
      "  [ 22  22  22]]\n",
      "\n",
      " [[149 121  97]\n",
      "  [149 121  97]\n",
      "  [148 120  96]\n",
      "  ...\n",
      "  [ 24  24  24]\n",
      "  [ 22  22  22]\n",
      "  [ 22  22  22]]\n",
      "\n",
      " [[154 127 101]\n",
      "  [152 125  99]\n",
      "  [150 122  98]\n",
      "  ...\n",
      "  [ 25  25  25]\n",
      "  [ 22  22  22]\n",
      "  [ 22  22  22]]]\n"
     ]
    }
   ],
   "source": [
    "img = cv2.imread('C:/Users/Vibhansh/Desktop/New folder (3)/pred/main-qimg-1773b6a0b45fe14eaf9a3dcfbc3c5d49-lq.jpeg')\n",
    "print(img)\n",
    "\n"
   ]
  },
  {
   "cell_type": "code",
   "execution_count": 19,
   "metadata": {},
   "outputs": [],
   "source": [
    "img_pred = yolo.predictions(img)"
   ]
  },
  {
   "cell_type": "code",
   "execution_count": 20,
   "metadata": {},
   "outputs": [],
   "source": [
    "cv2.imshow('img_pred', img_pred)\n",
    "cv2.waitKey(0)\n",
    "cv2.destroyAllWindows()"
   ]
  },
  {
   "cell_type": "code",
   "execution_count": 7,
   "metadata": {},
   "outputs": [
    {
     "name": "stdout",
     "output_type": "stream",
     "text": [
      "Unable to read video\n"
     ]
    }
   ],
   "source": [
    "import cv2\n",
    "\n",
    "cap = cv2.VideoCapture('C:/Users/Vibhansh/Desktop/New folder (3)/Final_Model_Prediction/vedio/videoplayback (2).mp4')\n",
    "\n",
    "while True:\n",
    "    ret, frame = cap.read()\n",
    "    if not ret:\n",
    "        print('Unable to read video')\n",
    "        break\n",
    "\n",
    "    pred_image = yolo.predictions(frame)\n",
    "    cv2.imshow('YOLO', pred_image)\n",
    "\n",
    "    if cv2.waitKey(1) == 27 or cv2.getWindowProperty('YOLO', cv2.WND_PROP_VISIBLE) < 1:\n",
    "        break\n",
    "\n",
    "cv2.destroyAllWindows()\n",
    "cap.release()\n"
   ]
  },
  {
   "cell_type": "code",
   "execution_count": 7,
   "metadata": {},
   "outputs": [],
   "source": [
    "import cv2\n",
    "\n",
    "cap = cv2.VideoCapture('C:/Users/Vibhansh/Desktop/New folder (3)/pred/vedio/videoplayback (2).mp4')\n",
    "\n",
    "while True:\n",
    "    ret, frame = cap.read()\n",
    "    if not ret:\n",
    "        print('Unable to read video')\n",
    "        break\n",
    "\n",
    "    pred_image = yolo.predictions(frame)\n",
    "    cv2.imshow('YOLO', pred_image)\n",
    "\n",
    "    if cv2.waitKey(1) == 27 or cv2.getWindowProperty('YOLO', cv2.WND_PROP_VISIBLE) < 1:\n",
    "        break\n",
    "\n",
    "cv2.destroyAllWindows()\n",
    "cap.release()\n"
   ]
  }
 ],
 "metadata": {
  "kernelspec": {
   "display_name": "Python 3",
   "language": "python",
   "name": "python3"
  },
  "language_info": {
   "codemirror_mode": {
    "name": "ipython",
    "version": 3
   },
   "file_extension": ".py",
   "mimetype": "text/x-python",
   "name": "python",
   "nbconvert_exporter": "python",
   "pygments_lexer": "ipython3",
   "version": "3.12.5"
  }
 },
 "nbformat": 4,
 "nbformat_minor": 2
}
